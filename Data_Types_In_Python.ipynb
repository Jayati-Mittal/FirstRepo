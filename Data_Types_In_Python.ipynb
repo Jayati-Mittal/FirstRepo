{
 "cells": [
  {
   "cell_type": "markdown",
   "metadata": {},
   "source": [
    "![Title](test.jpg)"
   ]
  },
  {
   "cell_type": "code",
   "execution_count": 9,
   "metadata": {},
   "outputs": [
    {
     "name": "stdout",
     "output_type": "stream",
     "text": [
      "Type of 'x' is  <class 'float'>\n",
      "Value of x =  5.25\n"
     ]
    }
   ],
   "source": [
    "#Numbers\n",
    "#Integers\n",
    "x = 5.25 #'x' is a container or a variable\n",
    "#Let's print the type of the variable\n",
    "print(\"Type of 'x' is \", type(x))\n",
    "#For value of the vriable\n",
    "print(\"Value of x = \",x)"
   ]
  },
  {
   "cell_type": "code",
   "execution_count": 2,
   "metadata": {},
   "outputs": [
    {
     "name": "stdout",
     "output_type": "stream",
     "text": [
      "Type of 'x' is <class 'int'>\n",
      "Value of 'x' is 5\n"
     ]
    }
   ],
   "source": [
    "x = 5\n",
    "print(\"Type of 'x' is\",type(x))\n",
    "print(\"Value of 'x' is\",x)"
   ]
  },
  {
   "cell_type": "code",
   "execution_count": 4,
   "metadata": {},
   "outputs": [
    {
     "name": "stdout",
     "output_type": "stream",
     "text": [
      "Value of 'z' is 13\n"
     ]
    }
   ],
   "source": [
    "x = 6\n",
    "y = 7\n",
    "z = x+y\n",
    "print(\"Value of 'z' is\",z)"
   ]
  },
  {
   "cell_type": "markdown",
   "metadata": {
    "collapsed": true
   },
   "source": [
    "String is a combination of characters\n",
    "Python supports utf-8\n",
    "C used ASCI\n",
    "\\ backslash is an escape character"
   ]
  },
  {
   "cell_type": "code",
   "execution_count": 5,
   "metadata": {},
   "outputs": [
    {
     "name": "stdout",
     "output_type": "stream",
     "text": [
      "He said, \"It is raining.\"\n",
      "Hi, I am a paragraph.\n",
      "                    There are multiple lines.\n",
      "    Write your program as you wish.\n",
      "He said, \"I am reading.\"\n"
     ]
    }
   ],
   "source": [
    "s = 'Python'\n",
    "s1 = \"Hello World\"\n",
    "s2 = \"He said, \\\"It is raining.\\\"\" # \\ told the program to not read the quotes given after it; else quote 1 to quote 2 would have been one string for the program\n",
    "s3= \"\"\"Hi, I am a paragraph.\n",
    "                    There are multiple lines.\n",
    "    Write your program as you wish.\"\"\"\n",
    "s4 = 'He said, \"I am reading.\"' #How to omit the s2 thing of double quotes\n",
    "print(s2)\n",
    "print(s3)\n",
    "print(s4)\n"
   ]
  },
  {
   "cell_type": "code",
   "execution_count": 6,
   "metadata": {},
   "outputs": [
    {
     "name": "stdout",
     "output_type": "stream",
     "text": [
      "Total characters in the string are 11\n"
     ]
    }
   ],
   "source": [
    "s = \"Hello World\"\n",
    "print(\"Total characters in the string are\", len(s))"
   ]
  },
  {
   "cell_type": "code",
   "execution_count": 7,
   "metadata": {},
   "outputs": [
    {
     "name": "stdout",
     "output_type": "stream",
     "text": [
      "W\n",
      "W\n"
     ]
    }
   ],
   "source": [
    "one_char = s[6]\n",
    "print(one_char)\n",
    "same_char = s[-5] #Python uses both the ways of indexing, starting with zero or ending with -1\n",
    "print(same_char)"
   ]
  },
  {
   "cell_type": "code",
   "execution_count": 8,
   "metadata": {},
   "outputs": [
    {
     "name": "stdout",
     "output_type": "stream",
     "text": [
      "dlroW olleH\n"
     ]
    }
   ],
   "source": [
    "s = \"Hello World\"\n",
    "y = s[-1::-1]\n",
    "print(y)"
   ]
  },
  {
   "cell_type": "code",
   "execution_count": 9,
   "metadata": {},
   "outputs": [
    {
     "name": "stdout",
     "output_type": "stream",
     "text": [
      "Hello Worl\n"
     ]
    }
   ],
   "source": [
    "z = s[:-1:] #never counts the given ending point, stops one before\n",
    "print(z)"
   ]
  },
  {
   "cell_type": "code",
   "execution_count": 1,
   "metadata": {},
   "outputs": [
    {
     "name": "stdout",
     "output_type": "stream",
     "text": [
      "The Zen of Python, by Tim Peters\n",
      "\n",
      "Beautiful is better than ugly.\n",
      "Explicit is better than implicit.\n",
      "Simple is better than complex.\n",
      "Complex is better than complicated.\n",
      "Flat is better than nested.\n",
      "Sparse is better than dense.\n",
      "Readability counts.\n",
      "Special cases aren't special enough to break the rules.\n",
      "Although practicality beats purity.\n",
      "Errors should never pass silently.\n",
      "Unless explicitly silenced.\n",
      "In the face of ambiguity, refuse the temptation to guess.\n",
      "There should be one-- and preferably only one --obvious way to do it.\n",
      "Although that way may not be obvious at first unless you're Dutch.\n",
      "Now is better than never.\n",
      "Although never is often better than *right* now.\n",
      "If the implementation is hard to explain, it's a bad idea.\n",
      "If the implementation is easy to explain, it may be a good idea.\n",
      "Namespaces are one honking great idea -- let's do more of those!\n"
     ]
    }
   ],
   "source": [
    "import this"
   ]
  },
  {
   "cell_type": "code",
   "execution_count": 5,
   "metadata": {},
   "outputs": [
    {
     "name": "stdout",
     "output_type": "stream",
     "text": [
      "['__add__', '__class__', '__contains__', '__delattr__', '__dir__', '__doc__', '__eq__', '__format__', '__ge__', '__getattribute__', '__getitem__', '__getnewargs__', '__gt__', '__hash__', '__init__', '__init_subclass__', '__iter__', '__le__', '__len__', '__lt__', '__mod__', '__mul__', '__ne__', '__new__', '__reduce__', '__reduce_ex__', '__repr__', '__rmod__', '__rmul__', '__setattr__', '__sizeof__', '__str__', '__subclasshook__', 'capitalize', 'casefold', 'center', 'count', 'encode', 'endswith', 'expandtabs', 'find', 'format', 'format_map', 'index', 'isalnum', 'isalpha', 'isdecimal', 'isdigit', 'isidentifier', 'islower', 'isnumeric', 'isprintable', 'isspace', 'istitle', 'isupper', 'join', 'ljust', 'lower', 'lstrip', 'maketrans', 'partition', 'replace', 'rfind', 'rindex', 'rjust', 'rpartition', 'rsplit', 'rstrip', 'split', 'splitlines', 'startswith', 'strip', 'swapcase', 'title', 'translate', 'upper', 'zfill']\n"
     ]
    }
   ],
   "source": [
    "s = \"Hello World\"\n",
    "print (dir(s)) "
   ]
  },
  {
   "cell_type": "code",
   "execution_count": 7,
   "metadata": {},
   "outputs": [
    {
     "name": "stdout",
     "output_type": "stream",
     "text": [
      "S.center(width[, fillchar]) -> str\n",
      "\n",
      "Return S centered in a string of length width. Padding is\n",
      "done using the specified fill character (default is a space)\n"
     ]
    }
   ],
   "source": [
    "# To call an object we use '.' like s.method_name Here '.' is known as access specifier\n",
    "x = s.center.__doc__ #Taking the method and reading the document for the same\n",
    "#double underscore is important, it is called \n",
    "print(x)"
   ]
  },
  {
   "cell_type": "code",
   "execution_count": 9,
   "metadata": {},
   "outputs": [
    {
     "name": "stdout",
     "output_type": "stream",
     "text": [
      "*****************************************************************************************************************************************************************************************************************************************************************************Hello World******************************************************************************************************************************************************************************************************************************************************************************\n"
     ]
    }
   ],
   "source": [
    "y = s.center(550,'*')\n",
    "print(y)"
   ]
  },
  {
   "cell_type": "code",
   "execution_count": 11,
   "metadata": {},
   "outputs": [
    {
     "name": "stdout",
     "output_type": "stream",
     "text": [
      "In upper case: HELLO WORLD!!\n",
      "In lower case: hello world!!\n",
      "In swap case: hElLo wOrLd!!\n"
     ]
    }
   ],
   "source": [
    "s = \"HeLlO WoRlD!!\"\n",
    "u = s.upper()\n",
    "l = s.lower()\n",
    "k = s.swapcase()\n",
    "print(\"In upper case:\",u)\n",
    "print(\"In lower case:\",l)\n",
    "print(\"In swap case:\",k)"
   ]
  },
  {
   "cell_type": "code",
   "execution_count": 31,
   "metadata": {},
   "outputs": [
    {
     "name": "stdout",
     "output_type": "stream",
     "text": [
      "String is - '      Hello World   '\n",
      "Hello World\n",
      "Hello World   \n",
      "      Hello World\n"
     ]
    }
   ],
   "source": [
    "#Leading white spaces and trailing white spaces are the spaces before and after the string text respectively\n",
    "s = \"      Hello World   \" #Spaces between the text are not white spaces\n",
    "k = s.strip()\n",
    "l = s.lstrip()\n",
    "r = s.rstrip()\n",
    "print(\"String is - '{}'\".format(s))\n",
    "print(k)\n",
    "print(l)\n",
    "print(r)\n"
   ]
  },
  {
   "cell_type": "code",
   "execution_count": 17,
   "metadata": {},
   "outputs": [
    {
     "name": "stdout",
     "output_type": "stream",
     "text": [
      "6\n",
      "-1\n",
      "Every DOG is not a real DOG\n"
     ]
    }
   ],
   "source": [
    "s = \"Every dog is not a real dog\"\n",
    "x = s.find(\"dog\") #Returns the index where the pattern starts\n",
    "print(x)\n",
    "y = s.find(\"cat\") #Returns -1 when pattern doesn't match in the string\n",
    "print(y)\n",
    "z = s.replace(\"dog\", \"DOG\")\n",
    "print(z)"
   ]
  },
  {
   "cell_type": "code",
   "execution_count": 33,
   "metadata": {},
   "outputs": [
    {
     "name": "stdout",
     "output_type": "stream",
     "text": [
      "['Hello', 'World', 'Welcome', 'to', 'Python']\n",
      "('Hello ', 'World', ' Welcome to Python')\n",
      "['Hello ', ' Welcome to Python']\n",
      "Hello*World*Welcome*to*Python\n",
      "Hello-World-Welcome-to-Python\n"
     ]
    }
   ],
   "source": [
    "s = \"Hello World Welcome to Python\"\n",
    "x = s.split() #Gives list; by defualt splits strings from spaces; it checks the repition of the word in the whole string\n",
    "y = s.partition(\"World\") #Gives tuple; will partition string from the given word; it will only check the first occuring word\n",
    "z = s.split(\"World\") #Removes the given word and splits the spaces\n",
    "print(x)\n",
    "print(y) \n",
    "print(z)\n",
    "abc = '-'.join(x)\n",
    "xyz = '*'.join(x)\n",
    "print(xyz)\n",
    "print(abc)"
   ]
  },
  {
   "cell_type": "code",
   "execution_count": 28,
   "metadata": {},
   "outputs": [
    {
     "name": "stdout",
     "output_type": "stream",
     "text": [
      "a^--^b^--^c^--^d\n"
     ]
    }
   ],
   "source": [
    "s = \"abcd\"\n",
    "k = '^--^'.join(s)\n",
    "print(k)"
   ]
  },
  {
   "cell_type": "markdown",
   "metadata": {},
   "source": [
    "<h1 style='color:gray'> List data type in Python</h>"
   ]
  },
  {
   "cell_type": "markdown",
   "metadata": {},
   "source": [
    "1. List is a collection of both homogeneous and heterogeneous data elements.\n",
    "2. All arrays are lists but all lists are not arrays.\n",
    "3. List is a mutable data type, i.e. it can be changed."
   ]
  },
  {
   "cell_type": "code",
   "execution_count": 36,
   "metadata": {},
   "outputs": [
    {
     "name": "stdout",
     "output_type": "stream",
     "text": [
      "5845\n",
      "6\n"
     ]
    }
   ],
   "source": [
    "mylist = [5464, 5545476, 484687, 8784, 4646, 5845] #List initialisation\n",
    "mylist1 = [\"Hello\", \"World\", \"Welcome\", \"To\", \"Python\", \"List\"]\n",
    "s = mylist[5]\n",
    "print(s)\n",
    "print(len(mylist1))"
   ]
  },
  {
   "cell_type": "code",
   "execution_count": 37,
   "metadata": {},
   "outputs": [
    {
     "name": "stdout",
     "output_type": "stream",
     "text": [
      "[4, 3, 2, 1]\n"
     ]
    }
   ],
   "source": [
    "l = [1, 2, 3 , 4]\n",
    "r =l[::-1] #Prints reverse list\n",
    "print(r)"
   ]
  },
  {
   "cell_type": "code",
   "execution_count": 38,
   "metadata": {
    "collapsed": true
   },
   "outputs": [],
   "source": [
    "list? #works only in Jupyter"
   ]
  },
  {
   "cell_type": "code",
   "execution_count": 41,
   "metadata": {},
   "outputs": [
    {
     "name": "stdout",
     "output_type": "stream",
     "text": [
      "5\n"
     ]
    }
   ],
   "source": [
    "d2 = [\n",
    "    [1,2,3],\n",
    "    [4,5,6],\n",
    "    [7,8,9]\n",
    "]\n",
    "print(d2[1][1]) #Output for 2D list"
   ]
  },
  {
   "cell_type": "code",
   "execution_count": 42,
   "metadata": {},
   "outputs": [
    {
     "name": "stdout",
     "output_type": "stream",
     "text": [
      "['__add__', '__class__', '__contains__', '__delattr__', '__delitem__', '__dir__', '__doc__', '__eq__', '__format__', '__ge__', '__getattribute__', '__getitem__', '__gt__', '__hash__', '__iadd__', '__imul__', '__init__', '__init_subclass__', '__iter__', '__le__', '__len__', '__lt__', '__mul__', '__ne__', '__new__', '__reduce__', '__reduce_ex__', '__repr__', '__reversed__', '__rmul__', '__setattr__', '__setitem__', '__sizeof__', '__str__', '__subclasshook__', 'append', 'clear', 'copy', 'count', 'extend', 'index', 'insert', 'pop', 'remove', 'reverse', 'sort']\n"
     ]
    }
   ],
   "source": [
    "print(dir(l))"
   ]
  },
  {
   "cell_type": "markdown",
   "metadata": {},
   "source": [
    "Built-in functions\n",
    "1. mylist.append(item)\n",
    "2. mylist.insert(index,item)\n",
    "3. mylist.extend(seq)"
   ]
  },
  {
   "cell_type": "code",
   "execution_count": 46,
   "metadata": {},
   "outputs": [
    {
     "name": "stdout",
     "output_type": "stream",
     "text": [
      "['hello', 1, 5, 3.14]\n",
      "['hello', 1, 5, 3.14, 6, 'world', [1, 4, 5, 8]]\n"
     ]
    }
   ],
   "source": [
    "mylist = ['hello', 1,5,3.14]\n",
    "print(mylist)\n",
    "mylist.append(6)\n",
    "mylist.append('world')\n",
    "mylist.append([1,4,5,8])\n",
    "print(mylist)"
   ]
  },
  {
   "cell_type": "code",
   "execution_count": 47,
   "metadata": {},
   "outputs": [
    {
     "name": "stdout",
     "output_type": "stream",
     "text": [
      "['python', 5, 2, 7, 'bye', 646, 3.14, 'hello', 'hi']\n"
     ]
    }
   ],
   "source": [
    "mylist = [5,2,7,646,'hello','hi']\n",
    "mylist.insert(3,'bye') #inserts the desired item in front of the given index\n",
    "mylist.insert(0,'python')\n",
    "mylist.insert(-2,3.14)\n",
    "print(mylist)"
   ]
  },
  {
   "cell_type": "code",
   "execution_count": 52,
   "metadata": {},
   "outputs": [
    {
     "name": "stdout",
     "output_type": "stream",
     "text": [
      "[1, 2, 'hello', 5, 'p', 'y', 't', 'h', 'o', 'n']\n"
     ]
    }
   ],
   "source": [
    "l = [1,2,\"hello\",5]\n",
    "l.extend('python') #Adds as sequence, i.e. picks each character and inserts individually at the end of the given list\n",
    "print(l)"
   ]
  },
  {
   "cell_type": "code",
   "execution_count": 54,
   "metadata": {},
   "outputs": [
    {
     "name": "stdout",
     "output_type": "stream",
     "text": [
      "[1, 5, 1, 4, 'hi', 'bye', 'you']\n"
     ]
    }
   ],
   "source": [
    "l = [1,5,1,4]\n",
    "l.extend(['hi','bye','you']) #Picking each element from the list\n",
    "print(l)"
   ]
  },
  {
   "cell_type": "code",
   "execution_count": 65,
   "metadata": {},
   "outputs": [
    {
     "name": "stdout",
     "output_type": "stream",
     "text": [
      "[1, 2, 3, 4]\n",
      "['hello', 1, 2, 3, 4, 'hi', 'bye']\n",
      "['hello', 1, 2, 3, 4, 'hi', 'bye']\n",
      "[1, 2, 3, 4]\n"
     ]
    }
   ],
   "source": [
    "l =[1,2,3,4]\n",
    "k = l #Gave the final list\n",
    "j = l.copy() #This copy did not track the changes\n",
    "print(l)\n",
    "l.insert(0,\"hello\")\n",
    "l.append(\"hi\")\n",
    "l.append(\"bye\")\n",
    "print(l)\n",
    "print(k)\n",
    "print(j)\n"
   ]
  },
  {
   "cell_type": "code",
   "execution_count": 58,
   "metadata": {},
   "outputs": [
    {
     "name": "stdout",
     "output_type": "stream",
     "text": [
      "[3, 1, 2, 3, 1, 2, 3]\n",
      "3\n"
     ]
    }
   ],
   "source": [
    "l = [1,2,3,1,2,3,1,2,3]\n",
    "one = l.count(1) #Here 1 is the item name\n",
    "l.remove(1) \n",
    "l.remove(2) #Removes the first occurence of the item in the given list\n",
    "print(l)\n",
    "print(one)"
   ]
  },
  {
   "cell_type": "markdown",
   "metadata": {},
   "source": [
    "Sort function can be used when the list is homogeneous"
   ]
  },
  {
   "cell_type": "markdown",
   "metadata": {},
   "source": [
    "TUPLE\n",
    "It is an immutable data type, i.e. no change can be done.\n",
    "It can use only count and index function."
   ]
  },
  {
   "cell_type": "code",
   "execution_count": 59,
   "metadata": {},
   "outputs": [
    {
     "name": "stdout",
     "output_type": "stream",
     "text": [
      "<class 'tuple'>\n",
      "['__add__', '__class__', '__contains__', '__delattr__', '__dir__', '__doc__', '__eq__', '__format__', '__ge__', '__getattribute__', '__getitem__', '__getnewargs__', '__gt__', '__hash__', '__init__', '__init_subclass__', '__iter__', '__le__', '__len__', '__lt__', '__mul__', '__ne__', '__new__', '__reduce__', '__reduce_ex__', '__repr__', '__rmul__', '__setattr__', '__sizeof__', '__str__', '__subclasshook__', 'count', 'index']\n"
     ]
    }
   ],
   "source": [
    "k = (1,2,3,'hello','hi')\n",
    "print(type(k))\n",
    "print(dir(k))"
   ]
  },
  {
   "cell_type": "code",
   "execution_count": 61,
   "metadata": {},
   "outputs": [
    {
     "name": "stdout",
     "output_type": "stream",
     "text": [
      "28\n"
     ]
    }
   ],
   "source": [
    "x = 1234\n",
    "print(x.__sizeof__())"
   ]
  },
  {
   "cell_type": "markdown",
   "metadata": {},
   "source": [
    "DICTIONARY"
   ]
  },
  {
   "cell_type": "code",
   "execution_count": 64,
   "metadata": {},
   "outputs": [
    {
     "name": "stdout",
     "output_type": "stream",
     "text": [
      "{'key': 'value', 'name': 'python', 'year': 1991, 'frameworks': ['Django', 'Flask', 'Web2py']}\n",
      "<class 'dict'>\n"
     ]
    }
   ],
   "source": [
    "mydict = {\n",
    "    'key':'value',\n",
    "    'name':'python',\n",
    "    'year':1991,\n",
    "    'frameworks':['Django','Flask','Web2py']\n",
    "}\n",
    "print(mydict)\n",
    "print(type(mydict))"
   ]
  },
  {
   "cell_type": "code",
   "execution_count": 67,
   "metadata": {},
   "outputs": [
    {
     "name": "stdout",
     "output_type": "stream",
     "text": [
      "['__class__', '__contains__', '__delattr__', '__delitem__', '__dir__', '__doc__', '__eq__', '__format__', '__ge__', '__getattribute__', '__getitem__', '__gt__', '__hash__', '__init__', '__init_subclass__', '__iter__', '__le__', '__len__', '__lt__', '__ne__', '__new__', '__reduce__', '__reduce_ex__', '__repr__', '__setattr__', '__setitem__', '__sizeof__', '__str__', '__subclasshook__', 'clear', 'copy', 'fromkeys', 'get', 'items', 'keys', 'pop', 'popitem', 'setdefault', 'update', 'values']\n",
      "{'Name': 'Ryan', 'Age': 21, 'Language': 'Hindi', 'Skills': ['Linux', 'Python', 'R'], 'Country': 'India'}\n"
     ]
    }
   ],
   "source": [
    "info = {\n",
    "    'Name':'Ryan',\n",
    "    'Age':21,\n",
    "    'Language':'Hindi',\n",
    "    'Skills':['Linux','Python','R'],\n",
    "    'Country':'India'\n",
    "}\n",
    "print(dir(info))\n",
    "print(info)"
   ]
  },
  {
   "cell_type": "code",
   "execution_count": 68,
   "metadata": {},
   "outputs": [
    {
     "name": "stdout",
     "output_type": "stream",
     "text": [
      "Name =  Ryan\n",
      "Skills =  Linux Python R\n"
     ]
    }
   ],
   "source": [
    "print(\"Name = \",info['Name'])\n",
    "print(\"Skills = \",*info['Skills'])"
   ]
  },
  {
   "cell_type": "code",
   "execution_count": 7,
   "metadata": {},
   "outputs": [
    {
     "name": "stdout",
     "output_type": "stream",
     "text": [
      "4 7 10 13 16 19\n",
      "20 19 18 17 16 15 14 13 12 11 10 9 8 7 6 5 4 3 2 1\n",
      "1 3 5 7 9 11 13 15 17 19\n",
      "1 2 3 4 5 6 7 8 9 10\n",
      "16 14 12 10 8\n"
     ]
    }
   ],
   "source": [
    "l = [1,2,3,4,5,6,7,8,9,10,11,12,13,14,15,16,17,18,19,20]\n",
    "print(*l[3::3])\n",
    "print(*l[::-1])\n",
    "print(*l[::2])\n",
    "print(*l[-20:-10]) #It will go about as -20+1, hence it will move forward(-20 means 1 and -1 means 20)\n",
    "print(*l[-5:-15:-2]) #Always omits the last given index, i.e. will print the last vaue before -15"
   ]
  },
  {
   "cell_type": "code",
   "execution_count": null,
   "metadata": {
    "collapsed": true
   },
   "outputs": [],
   "source": [
    "#Update function supports minimum 2 parameters to be added to a dictionary"
   ]
  },
  {
   "cell_type": "markdown",
   "metadata": {},
   "source": [
    "# Sets"
   ]
  },
  {
   "cell_type": "code",
   "execution_count": null,
   "metadata": {
    "collapsed": true
   },
   "outputs": [],
   "source": [
    "#Elements cannot be repeated in sets\n",
    "#There is no indexing and slicing in sets\n",
    "#They are used to remove the redundancy"
   ]
  },
  {
   "cell_type": "code",
   "execution_count": 12,
   "metadata": {},
   "outputs": [
    {
     "name": "stdout",
     "output_type": "stream",
     "text": [
      "<class 'set'>\n",
      "<class 'set'>\n",
      "Intersection: {11, 12, 13, 14}\n",
      "Union: {1, 'Bye', 3.14, 3, 5, 'Hello', 234, 11, 12, 13, 14, 'Hi', 24, 56}\n",
      "Difference: {1, 3.14, 5, 'Hello', 234}\n"
     ]
    }
   ],
   "source": [
    "A = {'Hello',1,5,234,3.14,11,12,13,14}\n",
    "B = {'Bye','Hi',3,24,56,11,12,13,14}\n",
    "print(type(A))\n",
    "print(type(B))\n",
    "print(\"Intersection:\",A.intersection(B))\n",
    "print(\"Union:\",A.union(B))\n",
    "print(\"Difference:\",A.difference(B))"
   ]
  },
  {
   "cell_type": "code",
   "execution_count": 43,
   "metadata": {},
   "outputs": [
    {
     "name": "stdout",
     "output_type": "stream",
     "text": [
      "Only Hindi: Shahid Palak Pooja\n",
      "Only English: Ashish Kirti Apurva\n",
      "Reads both: Keshav Jayati Devansh Vaibhav\n",
      "Total readers are  10\n"
     ]
    }
   ],
   "source": [
    "Hindi = {'Keshav','Palak','Pooja','Shahid','Devansh','Vaibhav','Jayati'}\n",
    "English = {'Apurva','Jayati','Kirti','Ashish','Devansh','Vaibhav','Keshav'}\n",
    "print(\"Only Hindi:\",*Hindi.difference(English))\n",
    "print(\"Only English:\",*English.difference(Hindi))\n",
    "Only_H = Hindi.difference(English)\n",
    "Only_E = English.difference(Hindi)\n",
    "Both = Hindi.intersection(English)\n",
    "print(\"Reads both:\",*Both)\n",
    "x = len(Only_H) + len(Only_E) + len(Both)\n",
    "print(\"Total readers are \",x)"
   ]
  },
  {
   "cell_type": "markdown",
   "metadata": {
    "collapsed": true
   },
   "source": [
    "<h1 style='color:gray'> Type Conversion</h>"
   ]
  },
  {
   "cell_type": "code",
   "execution_count": 11,
   "metadata": {},
   "outputs": [
    {
     "name": "stdout",
     "output_type": "stream",
     "text": [
      "65646\n"
     ]
    }
   ],
   "source": [
    "k = '    65646    ' #Default input is taken as string\n",
    "x = int(k) # String k converted into an integer\n",
    "print(x)"
   ]
  },
  {
   "cell_type": "code",
   "execution_count": 16,
   "metadata": {},
   "outputs": [
    {
     "name": "stdout",
     "output_type": "stream",
     "text": [
      "2\n",
      "2\n"
     ]
    }
   ],
   "source": [
    "print(int(2.1455)) #Float can be converted into an integer\n",
    "print(int(2.68))"
   ]
  },
  {
   "cell_type": "code",
   "execution_count": 15,
   "metadata": {},
   "outputs": [
    {
     "ename": "TypeError",
     "evalue": "can't convert complex to int",
     "output_type": "error",
     "traceback": [
      "\u001b[1;31m---------------------------------------------------------------------------\u001b[0m",
      "\u001b[1;31mTypeError\u001b[0m                                 Traceback (most recent call last)",
      "\u001b[1;32m<ipython-input-15-4d89da42e102>\u001b[0m in \u001b[0;36m<module>\u001b[1;34m()\u001b[0m\n\u001b[1;32m----> 1\u001b[1;33m \u001b[0mprint\u001b[0m\u001b[1;33m(\u001b[0m\u001b[0mint\u001b[0m\u001b[1;33m(\u001b[0m\u001b[1;36m3\u001b[0m\u001b[1;33m+\u001b[0m\u001b[1;36m6j\u001b[0m\u001b[1;33m)\u001b[0m\u001b[1;33m)\u001b[0m \u001b[1;31m#Complex number cannot be converted into an integer\u001b[0m\u001b[1;33m\u001b[0m\u001b[0m\n\u001b[0m",
      "\u001b[1;31mTypeError\u001b[0m: can't convert complex to int"
     ]
    }
   ],
   "source": [
    "print(int(3+6j)) #Complex number cannot be converted into an integer"
   ]
  },
  {
   "cell_type": "code",
   "execution_count": 18,
   "metadata": {},
   "outputs": [
    {
     "name": "stdout",
     "output_type": "stream",
     "text": [
      "170\n"
     ]
    }
   ],
   "source": [
    "print(int('10101010',2)) #Converted binary with a base of 2 to integer"
   ]
  },
  {
   "cell_type": "code",
   "execution_count": 21,
   "metadata": {},
   "outputs": [
    {
     "ename": "ValueError",
     "evalue": "invalid literal for int() with base 8: '154653281'",
     "output_type": "error",
     "traceback": [
      "\u001b[1;31m---------------------------------------------------------------------------\u001b[0m",
      "\u001b[1;31mValueError\u001b[0m                                Traceback (most recent call last)",
      "\u001b[1;32m<ipython-input-21-e55642170dbf>\u001b[0m in \u001b[0;36m<module>\u001b[1;34m()\u001b[0m\n\u001b[1;32m----> 1\u001b[1;33m \u001b[0my\u001b[0m \u001b[1;33m=\u001b[0m \u001b[0mint\u001b[0m\u001b[1;33m(\u001b[0m\u001b[1;34m'154653281'\u001b[0m\u001b[1;33m,\u001b[0m\u001b[1;36m8\u001b[0m\u001b[1;33m)\u001b[0m \u001b[1;31m# digit 8 does not occur in the octal set\u001b[0m\u001b[1;33m\u001b[0m\u001b[0m\n\u001b[0m\u001b[0;32m      2\u001b[0m \u001b[0mprint\u001b[0m\u001b[1;33m(\u001b[0m\u001b[0my\u001b[0m\u001b[1;33m)\u001b[0m\u001b[1;33m\u001b[0m\u001b[0m\n",
      "\u001b[1;31mValueError\u001b[0m: invalid literal for int() with base 8: '154653281'"
     ]
    }
   ],
   "source": [
    "y = int('154653281',8) # digit 8 does not occur in the octal set\n",
    "print(y)"
   ]
  },
  {
   "cell_type": "code",
   "execution_count": 22,
   "metadata": {},
   "outputs": [
    {
     "name": "stdout",
     "output_type": "stream",
     "text": [
      "11259375\n"
     ]
    }
   ],
   "source": [
    "z = int('ABCDEF',16)\n",
    "print(z)"
   ]
  },
  {
   "cell_type": "code",
   "execution_count": 24,
   "metadata": {},
   "outputs": [
    {
     "name": "stdout",
     "output_type": "stream",
     "text": [
      "0b10000101000001111111\n"
     ]
    }
   ],
   "source": [
    "x = bin(544895)\n",
    "print(x)"
   ]
  },
  {
   "cell_type": "code",
   "execution_count": 27,
   "metadata": {},
   "outputs": [
    {
     "ename": "TypeError",
     "evalue": "'str' object cannot be interpreted as an integer",
     "output_type": "error",
     "traceback": [
      "\u001b[1;31m---------------------------------------------------------------------------\u001b[0m",
      "\u001b[1;31mTypeError\u001b[0m                                 Traceback (most recent call last)",
      "\u001b[1;32m<ipython-input-27-9b7dc2b76a13>\u001b[0m in \u001b[0;36m<module>\u001b[1;34m()\u001b[0m\n\u001b[1;32m----> 1\u001b[1;33m \u001b[0mx\u001b[0m \u001b[1;33m=\u001b[0m \u001b[0mbin\u001b[0m\u001b[1;33m(\u001b[0m\u001b[1;34m'25'\u001b[0m\u001b[1;33m)\u001b[0m \u001b[1;31m#String cannot be converted into binary\u001b[0m\u001b[1;33m\u001b[0m\u001b[0m\n\u001b[0m\u001b[0;32m      2\u001b[0m \u001b[0mprint\u001b[0m\u001b[1;33m(\u001b[0m\u001b[0mx\u001b[0m\u001b[1;33m)\u001b[0m\u001b[1;33m\u001b[0m\u001b[0m\n",
      "\u001b[1;31mTypeError\u001b[0m: 'str' object cannot be interpreted as an integer"
     ]
    }
   ],
   "source": [
    "x = bin('25') #String cannot be converted into binary\n",
    "print(x)"
   ]
  },
  {
   "cell_type": "code",
   "execution_count": 28,
   "metadata": {
    "collapsed": true
   },
   "outputs": [],
   "source": [
    "hex?"
   ]
  },
  {
   "cell_type": "code",
   "execution_count": 32,
   "metadata": {},
   "outputs": [
    {
     "name": "stdout",
     "output_type": "stream",
     "text": [
      "0x85c35\n"
     ]
    }
   ],
   "source": [
    "x  = hex(547893)\n",
    "print(x)"
   ]
  },
  {
   "cell_type": "code",
   "execution_count": 35,
   "metadata": {},
   "outputs": [
    {
     "name": "stdout",
     "output_type": "stream",
     "text": [
      "2841\n",
      "[2, 54, 65]\n"
     ]
    }
   ],
   "source": [
    "#Conversion to string\n",
    "x = str(2841)\n",
    "y = str([2,54,65])\n",
    "print(x)\n",
    "print(y)"
   ]
  },
  {
   "cell_type": "code",
   "execution_count": 38,
   "metadata": {},
   "outputs": [
    {
     "name": "stdout",
     "output_type": "stream",
     "text": [
      "['h', 'a', 'z']\n"
     ]
    }
   ],
   "source": [
    "d = {'h':'i','a':'b','z':'y'}\n",
    "z = list(d) #Dictionary is read as a tuple, hence, only the keys will be picked up\n",
    "print(z)"
   ]
  },
  {
   "cell_type": "code",
   "execution_count": 40,
   "metadata": {},
   "outputs": [
    {
     "name": "stdout",
     "output_type": "stream",
     "text": [
      "[('h', 'i'), ('a', 'b'), ('z', 'y')]\n"
     ]
    }
   ],
   "source": [
    "a = list(d.items())\n",
    "print(a)"
   ]
  },
  {
   "cell_type": "code",
   "execution_count": 41,
   "metadata": {},
   "outputs": [
    {
     "name": "stdout",
     "output_type": "stream",
     "text": [
      "('h', 'a', 'z')\n"
     ]
    }
   ],
   "source": [
    "z = tuple(d)\n",
    "print(z)"
   ]
  },
  {
   "cell_type": "code",
   "execution_count": null,
   "metadata": {
    "collapsed": true
   },
   "outputs": [],
   "source": []
  }
 ],
 "metadata": {
  "kernelspec": {
   "display_name": "Python 3",
   "language": "python",
   "name": "python3"
  },
  "language_info": {
   "codemirror_mode": {
    "name": "ipython",
    "version": 3
   },
   "file_extension": ".py",
   "mimetype": "text/x-python",
   "name": "python",
   "nbconvert_exporter": "python",
   "pygments_lexer": "ipython3",
   "version": "3.6.3"
  }
 },
 "nbformat": 4,
 "nbformat_minor": 2
}
